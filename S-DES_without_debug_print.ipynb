{
 "cells": [
  {
   "cell_type": "markdown",
   "metadata": {},
   "source": [
    "## S-DES Python 3 Implementation\n",
    "Implemented via iPython Notebook system. Can be run in regular Python interpreter by simple copying code in cells \"In \\[.\\]\"<br>\n",
    "Keys and messages are represented as lists of 0 or 1 integers of corresponding length\n",
    "\n",
    "Version 1.1"
   ]
  },
  {
   "cell_type": "code",
   "execution_count": 31,
   "metadata": {},
   "outputs": [],
   "source": [
    "#Applies permutation p to list v\n",
    "def applyP(v, p):\n",
    "    return list(v[p[i] - 1] for i in range(0, len(p)))\n",
    "\n",
    "#Cycled left shrink of list v for pos_num positions\n",
    "def shl(v, pos_num):\n",
    "    #eliminating negative and too large pos_num values\n",
    "    pos_num = pos_num % len(v)\n",
    "    pos_num = (pos_num + len(v)) % len(v)\n",
    "    res = list(v[i] for i in range(pos_num, len(v)))\n",
    "    res.extend(list(v[i] for i in range(0, pos_num)))\n",
    "    return res\n",
    "\n",
    "#Cycled right shrink of list v for pos_num positions\n",
    "def shr(v, pos_num):\n",
    "    #eliminating negative and too large pos_num values\n",
    "    pos_num = pos_num % len(v)\n",
    "    pos_num = (pos_num + len(v)) % len(v)\n",
    "    res = list(v[i] for i in range(len(v) - pos_num, len(v)))\n",
    "    res.extend(list(v[i] for i in range(0, len(v) - pos_num)))\n",
    "    return res\n",
    "\n",
    "#Generates round keys for S-DES algorithm\n",
    "def genRoundKeys(basicKey):\n",
    "    pkey = [3, 5, 2, 7, 4, 10, 1, 9, 8, 6]\n",
    "    permuted_key = applyP(basicKey, pkey)\n",
    "    round_keys = []\n",
    "    left = list(permuted_key[i] for i in range(0, 5))\n",
    "    right = list(permuted_key[i] for i in range(5, 10))\n",
    "    p_zip = [6, 3, 7, 4, 8, 5, 10, 9]\n",
    "    left = list(shl(left, 1))\n",
    "    right = list(shl(right, 1))\n",
    "    key1 = list(left)\n",
    "    key1.extend(right)\n",
    "    round_keys.append(applyP(key1, p_zip))\n",
    "    left = shl(left, 2)\n",
    "    right = shl(right, 2)\n",
    "    key2 = left\n",
    "    key2.extend(right)\n",
    "    round_keys.append(applyP(key2, p_zip))\n",
    "    return round_keys"
   ]
  },
  {
   "cell_type": "code",
   "execution_count": 32,
   "metadata": {},
   "outputs": [],
   "source": [
    "#Main S-DES function\n",
    "#Contains transforms on the right part of a message\n",
    "#during one round\n",
    "def f_sdes(left, right, key):\n",
    "    extend_perm = [4, 1, 2, 3, 2, 3, 4, 1]\n",
    "    #applying permutation for extention\n",
    "    new_mes = applyP(right, extend_perm)\n",
    "    #applying key\n",
    "    keyd_mes = list(new_mes[i]^key[i] for i in range(0, len(key)))\n",
    "    #incorrect values on lection were in:\n",
    "    #in S0[3][3] and in S1[0][0] and in S0[2][3]\n",
    "    S0 = [\n",
    "        [[0, 1], [0, 0], [1, 1], [1, 0]],\n",
    "        [[1, 1], [1, 0], [0, 1], [0, 0]],\n",
    "        [[0, 0], [1, 0], [0, 1], [1, 1]],\n",
    "        [[1, 1], [0, 1], [1, 1], [1, 0]]\n",
    "    ];\n",
    "    S1 = [\n",
    "        [[0, 0], [0, 1], [1, 0], [1, 1]],\n",
    "        [[1, 0], [0, 0], [0, 1], [1, 1]],\n",
    "        [[1, 1], [0, 0], [1, 0], [0, 0]],\n",
    "        [[1, 0], [1, 0], [0, 0], [1, 1]]\n",
    "    ];\n",
    "    after_sq_blocks = list(S0[keyd_mes[0]*2+keyd_mes[3]][keyd_mes[1]*2+keyd_mes[2]])\n",
    "    after_sq_blocks.extend(S1[keyd_mes[4 + 0]*2+keyd_mes[4 + 3]][keyd_mes[4 + 1]*2+keyd_mes[4 + 2]])\n",
    "    P4 = [2, 4, 3, 1]\n",
    "    after_perm = applyP(after_sq_blocks, P4)\n",
    "    return after_perm"
   ]
  },
  {
   "cell_type": "code",
   "execution_count": 33,
   "metadata": {},
   "outputs": [],
   "source": [
    "#S-DES round transforms function\n",
    "def sdes_round(message, key):\n",
    "    left = message[:4]\n",
    "    right = message[4:]\n",
    "    after_f = f_sdes(left, right, key)\n",
    "    after_xor = list(left[i]^after_f[i] for i in range(0, 4))\n",
    "    new_mes = list(after_xor)\n",
    "    new_mes.extend(right)\n",
    "    return new_mes"
   ]
  },
  {
   "cell_type": "code",
   "execution_count": 34,
   "metadata": {},
   "outputs": [],
   "source": [
    "#Applies S-DES transforms to message\n",
    "#using pre-defined key order\n",
    "def sdes_ready_keys(message, keys):\n",
    "    start_p = [2, 6, 3, 1, 4, 8, 5, 7]\n",
    "    end_p = [4, 1, 3, 5, 7, 2, 8, 6]\n",
    "    mixed_mes = applyP(message, start_p)\n",
    "    round1 = sdes_round(mixed_mes, keys[0])\n",
    "    message_for_r2 = list(round1[4:8])\n",
    "    message_for_r2.extend(round1[0:4])\n",
    "    round2 = sdes_round(message_for_r2, keys[1])\n",
    "    result = applyP(round2, end_p)\n",
    "    return result"
   ]
  },
  {
   "cell_type": "code",
   "execution_count": 35,
   "metadata": {},
   "outputs": [],
   "source": [
    "#Encrypts message using S-DES\n",
    "def encrypt(message, key):\n",
    "    keys = genRoundKeys(key)\n",
    "    return sdes_ready_keys(message, keys)"
   ]
  },
  {
   "cell_type": "code",
   "execution_count": 36,
   "metadata": {},
   "outputs": [],
   "source": [
    "#Decrypts message using S-DES\n",
    "def decrypt(message, key):\n",
    "    keys = genRoundKeys(key)\n",
    "    keys.reverse()\n",
    "    return sdes_ready_keys(message, keys)"
   ]
  },
  {
   "cell_type": "code",
   "execution_count": 37,
   "metadata": {},
   "outputs": [
    {
     "data": {
      "text/plain": [
       "[0, 1, 1, 1, 0, 1, 1, 1]"
      ]
     },
     "execution_count": 37,
     "metadata": {},
     "output_type": "execute_result"
    }
   ],
   "source": [
    "#intuit example:\n",
    "#key: [1, 0, 1, 1, 1, 0, 0, 1, 1, 0]\n",
    "#message: [1, 1, 1, 1, 0, 0, 1, 0]\n",
    "#encrypted text: [1, 1, 1, 0, 1, 0, 1, 1]\n",
    "#example from university (cryptoprotocols discipline) lection:\n",
    "#key: [0, 1, 1, 1, 1, 1, 1, 1, 0, 1]\n",
    "#message: [1, 0, 1, 0, 0, 0, 1, 0]\n",
    "#encrypted text: [0, 0, 1, 1, 1, 0, 0, 0]\n",
    "encrypt([1, 1, 1, 1, 0, 0, 1, 0], [1, 0, 1, 1, 1, 0, 0, 1, 1, 0])"
   ]
  },
  {
   "cell_type": "code",
   "execution_count": 38,
   "metadata": {},
   "outputs": [
    {
     "data": {
      "text/plain": [
       "[1, 1, 1, 1, 0, 0, 1, 0]"
      ]
     },
     "execution_count": 38,
     "metadata": {},
     "output_type": "execute_result"
    }
   ],
   "source": [
    "decrypt([0, 1, 1, 1, 0, 1, 1, 1], [1, 0, 1, 1, 1, 0, 0, 1, 1, 0])"
   ]
  },
  {
   "cell_type": "code",
   "execution_count": 39,
   "metadata": {},
   "outputs": [
    {
     "name": "stdout",
     "output_type": "stream",
     "text": [
      "SDES fine\n"
     ]
    }
   ],
   "source": [
    "#checking of correctness\n",
    "SDES_correct = True\n",
    "for i in range(0, 2**8):\n",
    "    message = []\n",
    "    for j in range(0, 8):\n",
    "        message.append(1 if (i & (1<<j)) else 0)\n",
    "    message.reverse()\n",
    "    for j in range(0, 2**10):\n",
    "        key = []\n",
    "        for k in range(0, 10):\n",
    "            key.append(1 if (j & (1<<k)) else 0)\n",
    "        encrypted = encrypt(message, key)\n",
    "        decrypted = decrypt(encrypted, key)\n",
    "        #print('message')\n",
    "        #print(message)\n",
    "        #print('encrypted')\n",
    "        #print(encrypted)\n",
    "        #print('decrypted')\n",
    "        #print(decrypted)\n",
    "        result = True\n",
    "        for k in range(0, 8):\n",
    "            if(decrypted[k]!=message[k]):\n",
    "                result=False\n",
    "                break\n",
    "        if(not result):\n",
    "            SDES_correct = False\n",
    "            break\n",
    "    if(not SDES_correct):\n",
    "        break\n",
    "    #print(message)\n",
    "print('SDES fine' if SDES_correct else 'Some decprypted data does not match with original')"
   ]
  },
  {
   "cell_type": "code",
   "execution_count": null,
   "metadata": {},
   "outputs": [],
   "source": []
  }
 ],
 "metadata": {
  "kernelspec": {
   "display_name": "Python 3",
   "language": "python",
   "name": "python3"
  },
  "language_info": {
   "codemirror_mode": {
    "name": "ipython",
    "version": 3
   },
   "file_extension": ".py",
   "mimetype": "text/x-python",
   "name": "python",
   "nbconvert_exporter": "python",
   "pygments_lexer": "ipython3",
   "version": "3.6.8"
  }
 },
 "nbformat": 4,
 "nbformat_minor": 2
}
