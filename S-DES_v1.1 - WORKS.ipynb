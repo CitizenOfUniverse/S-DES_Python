{
 "cells": [
  {
   "cell_type": "code",
   "execution_count": 61,
   "metadata": {},
   "outputs": [],
   "source": [
    "def applyP(v, p):\n",
    "    return list(v[p[i] - 1] for i in range(0, len(p)))\n",
    "\n",
    "def shl(v, pos_num):\n",
    "    pos_num = pos_num % len(v)\n",
    "    pos_num = (pos_num + len(v)) % len(v)\n",
    "    res = list(v[i] for i in range(pos_num, len(v)))\n",
    "    res.extend(list(v[i] for i in range(0, pos_num)))\n",
    "    return res\n",
    "\n",
    "def shr(v, pos_num):\n",
    "    pos_num = pos_num % len(v)\n",
    "    pos_num = (pos_num + len(v)) % len(v)\n",
    "    res = list(v[i] for i in range(len(v) - pos_num, len(v)))\n",
    "    res.extend(list(v[i] for i in range(0, len(v) - pos_num)))\n",
    "    return res\n",
    "\n",
    "def genRoundKeys(basicKey):\n",
    "    pkey = [3, 5, 2, 7, 4, 10, 1, 9, 8, 6]\n",
    "    permuted_key = applyP(basicKey, pkey)\n",
    "    #print('permuted_key')\n",
    "    #print(permuted_key)\n",
    "    round_keys = []\n",
    "    left = list(permuted_key[i] for i in range(0, 5))\n",
    "    right = list(permuted_key[i] for i in range(5, 10))\n",
    "    #print('left')\n",
    "    #print(left)\n",
    "    #print('right')\n",
    "    #print(right)\n",
    "    p_zip = [6, 3, 7, 4, 8, 5, 10, 9]\n",
    "    left = list(shl(left, 1))\n",
    "    right = list(shl(right, 1))\n",
    "    #print('left')\n",
    "    #print(left)\n",
    "    #print('right')\n",
    "    #print(right)\n",
    "    key1 = list(left)\n",
    "    key1.extend(right)\n",
    "    round_keys.append(applyP(key1, p_zip))\n",
    "    left = shl(left, 2)\n",
    "    right = shl(right, 2)\n",
    "    #print('left')\n",
    "    #print(left)\n",
    "    #print('right')\n",
    "    #print(right)\n",
    "    key2 = left\n",
    "    key2.extend(right)\n",
    "    round_keys.append(applyP(key2, p_zip))\n",
    "    return round_keys"
   ]
  },
  {
   "cell_type": "code",
   "execution_count": 76,
   "metadata": {},
   "outputs": [],
   "source": [
    "def f_sdes(left, right, key):\n",
    "    print('Entered f_sdes')\n",
    "    extend_perm = [4, 1, 2, 3, 2, 3, 4, 1]\n",
    "    #applying permutation for extention\n",
    "    new_mes = applyP(right, extend_perm)\n",
    "    print('new_mes')\n",
    "    print(new_mes)\n",
    "    print('left')\n",
    "    print(left)\n",
    "    print('right')\n",
    "    print(right)\n",
    "    print('key')\n",
    "    print(key)\n",
    "    #applying key\n",
    "    keyd_mes = list(new_mes[i]^key[i] for i in range(0, len(key)))\n",
    "    print('keyd_mes')\n",
    "    print(keyd_mes)\n",
    "    #TODO:\n",
    "    #incorrect value in S0[3][3] and in S1[0][0] and in S0[2][3]\n",
    "    S0 = [\n",
    "        [[0, 1], [0, 0], [1, 1], [1, 0]],\n",
    "        [[1, 1], [1, 0], [0, 1], [0, 0]],\n",
    "        [[0, 0], [1, 0], [0, 1], [1, 1]],\n",
    "        [[1, 1], [0, 1], [1, 1], [1, 0]]\n",
    "    ];\n",
    "    S1 = [\n",
    "        [[0, 0], [0, 1], [1, 0], [1, 1]],\n",
    "        [[1, 0], [0, 0], [0, 1], [1, 1]],\n",
    "        [[1, 1], [0, 0], [1, 0], [0, 0]],\n",
    "        [[1, 0], [1, 0], [0, 0], [1, 1]]\n",
    "    ];\n",
    "    after_sq_blocks = list(S0[keyd_mes[0]*2+keyd_mes[3]][keyd_mes[1]*2+keyd_mes[2]])\n",
    "    after_sq_blocks.extend(S1[keyd_mes[4 + 0]*2+keyd_mes[4 + 3]][keyd_mes[4 + 1]*2+keyd_mes[4 + 2]])\n",
    "    print('after_sq_blocks')\n",
    "    print(after_sq_blocks)\n",
    "    P4 = [2, 4, 3, 1]\n",
    "    after_perm = applyP(after_sq_blocks, P4)\n",
    "    print('after_perm')\n",
    "    print(after_perm)\n",
    "    print('Left f_sdes')\n",
    "    return after_perm"
   ]
  },
  {
   "cell_type": "code",
   "execution_count": 70,
   "metadata": {},
   "outputs": [],
   "source": [
    "def sdes_round(message, key):\n",
    "    left = message[:4]\n",
    "    right = message[4:]\n",
    "    print('left')\n",
    "    print(left)\n",
    "    print('right')\n",
    "    print(right)\n",
    "    after_f = f_sdes(left, right, key)\n",
    "    #print('right')\n",
    "    #print(right)\n",
    "    after_xor = list(left[i]^after_f[i] for i in range(0, 4))\n",
    "    print('after_xor')\n",
    "    print(after_xor)\n",
    "    print('keyd_mes')\n",
    "    #new_mes = list(right)\n",
    "    #new_mes.extend(after_xor)\n",
    "    new_mes = list(after_xor)\n",
    "    new_mes.extend(right)\n",
    "    return new_mes"
   ]
  },
  {
   "cell_type": "code",
   "execution_count": 64,
   "metadata": {},
   "outputs": [],
   "source": [
    "def sdes_ready_keys(message, keys):\n",
    "    start_p = [2, 6, 3, 1, 4, 8, 5, 7]\n",
    "    end_p = [4, 1, 3, 5, 7, 2, 8, 6]\n",
    "    mixed_mes = applyP(message, start_p)\n",
    "    print('mixed_mes')\n",
    "    print(mixed_mes)\n",
    "    round1 = sdes_round(mixed_mes, keys[0])\n",
    "    print('round1')\n",
    "    print(round1)\n",
    "    message_for_r2 = list(round1[4:8])\n",
    "    message_for_r2.extend(round1[0:4])\n",
    "    print('message_for_r2')\n",
    "    print(message_for_r2)\n",
    "    round2 = sdes_round(message_for_r2, keys[1])\n",
    "    print('round2')\n",
    "    print(round2)\n",
    "    result = applyP(round2, end_p)\n",
    "    print('result')\n",
    "    print(result)\n",
    "    return result"
   ]
  },
  {
   "cell_type": "code",
   "execution_count": 65,
   "metadata": {},
   "outputs": [],
   "source": [
    "def encrypt(message, key):\n",
    "    keys = genRoundKeys(key)\n",
    "    print('keys')\n",
    "    print(keys)\n",
    "    return sdes_ready_keys(message, keys)"
   ]
  },
  {
   "cell_type": "code",
   "execution_count": 66,
   "metadata": {},
   "outputs": [],
   "source": [
    "def decrypt(message, key):\n",
    "    keys = genRoundKeys(key)\n",
    "    keys.reverse()\n",
    "    return sdes_ready_keys(message, keys)"
   ]
  },
  {
   "cell_type": "code",
   "execution_count": 44,
   "metadata": {},
   "outputs": [
    {
     "data": {
      "text/plain": [
       "[[0, 1, 0, 1, 1, 1, 1, 1], [1, 1, 1, 1, 1, 1, 0, 0]]"
      ]
     },
     "execution_count": 44,
     "metadata": {},
     "output_type": "execute_result"
    }
   ],
   "source": [
    "genRoundKeys([0, 1, 1, 1, 1, 1, 1, 1, 0, 1])"
   ]
  },
  {
   "cell_type": "code",
   "execution_count": 7,
   "metadata": {},
   "outputs": [
    {
     "data": {
      "text/plain": [
       "[1, 2, 0, 3]"
      ]
     },
     "execution_count": 7,
     "metadata": {},
     "output_type": "execute_result"
    }
   ],
   "source": [
    "applyP([0, 1, 2, 3], [2, 3, 1, 4])"
   ]
  },
  {
   "cell_type": "code",
   "execution_count": 74,
   "metadata": {},
   "outputs": [
    {
     "name": "stdout",
     "output_type": "stream",
     "text": [
      "left\n",
      "[0, 0, 1, 1]\n",
      "right\n",
      "[0, 0, 0, 1]\n",
      "Entered f_sdes\n",
      "new_mes\n",
      "[1, 0, 0, 0, 0, 0, 1, 0]\n",
      "keyd_mes\n",
      "[1, 1, 0, 1, 1, 1, 0, 1]\n",
      "after_sq_blocks\n",
      "[1, 1, 0, 0]\n",
      "after_perm\n",
      "[1, 0, 0, 1]\n",
      "Left f_sdes\n",
      "after_xor\n",
      "[1, 0, 1, 0]\n",
      "keyd_mes\n"
     ]
    },
    {
     "data": {
      "text/plain": [
       "[1, 0, 1, 0, 0, 0, 0, 1]"
      ]
     },
     "execution_count": 74,
     "metadata": {},
     "output_type": "execute_result"
    }
   ],
   "source": [
    "sdes_round([0, 0, 1, 1, 0, 0, 0, 1], [0, 1, 0, 1, 1, 1, 1, 1])"
   ]
  },
  {
   "cell_type": "code",
   "execution_count": 80,
   "metadata": {},
   "outputs": [
    {
     "name": "stdout",
     "output_type": "stream",
     "text": [
      "keys\n",
      "[[1, 0, 1, 1, 1, 1, 0, 0], [1, 1, 0, 1, 0, 0, 1, 1]]\n",
      "mixed_mes\n",
      "[1, 0, 1, 1, 1, 0, 0, 1]\n",
      "left\n",
      "[1, 0, 1, 1]\n",
      "right\n",
      "[1, 0, 0, 1]\n",
      "Entered f_sdes\n",
      "new_mes\n",
      "[1, 1, 0, 0, 0, 0, 1, 1]\n",
      "left\n",
      "[1, 0, 1, 1]\n",
      "right\n",
      "[1, 0, 0, 1]\n",
      "key\n",
      "[1, 0, 1, 1, 1, 1, 0, 0]\n",
      "keyd_mes\n",
      "[0, 1, 1, 1, 1, 1, 1, 1]\n",
      "after_sq_blocks\n",
      "[0, 0, 1, 1]\n",
      "after_perm\n",
      "[0, 1, 1, 0]\n",
      "Left f_sdes\n",
      "after_xor\n",
      "[1, 1, 0, 1]\n",
      "keyd_mes\n",
      "round1\n",
      "[1, 1, 0, 1, 1, 0, 0, 1]\n",
      "message_for_r2\n",
      "[1, 0, 0, 1, 1, 1, 0, 1]\n",
      "left\n",
      "[1, 0, 0, 1]\n",
      "right\n",
      "[1, 1, 0, 1]\n",
      "Entered f_sdes\n",
      "new_mes\n",
      "[1, 1, 1, 0, 1, 0, 1, 1]\n",
      "left\n",
      "[1, 0, 0, 1]\n",
      "right\n",
      "[1, 1, 0, 1]\n",
      "key\n",
      "[1, 1, 0, 1, 0, 0, 1, 1]\n",
      "keyd_mes\n",
      "[0, 0, 1, 1, 1, 0, 0, 0]\n",
      "after_sq_blocks\n",
      "[1, 0, 1, 1]\n",
      "after_perm\n",
      "[0, 1, 1, 1]\n",
      "Left f_sdes\n",
      "after_xor\n",
      "[1, 1, 1, 0]\n",
      "keyd_mes\n",
      "round2\n",
      "[1, 1, 1, 0, 1, 1, 0, 1]\n",
      "result\n",
      "[0, 1, 1, 1, 0, 1, 1, 1]\n"
     ]
    },
    {
     "data": {
      "text/plain": [
       "[0, 1, 1, 1, 0, 1, 1, 1]"
      ]
     },
     "execution_count": 80,
     "metadata": {},
     "output_type": "execute_result"
    }
   ],
   "source": [
    "#intuit example:\n",
    "#key: [1, 0, 1, 1, 1, 0, 0, 1, 1, 0]\n",
    "#message: [1, 1, 1, 1, 0, 0, 1, 0]\n",
    "#encrypted text: [1, 1, 1, 0, 1, 0, 1, 1]\n",
    "#example from university (cryptoprotocols discipline) lection:\n",
    "#key: [0, 1, 1, 1, 1, 1, 1, 1, 0, 1]\n",
    "#message: [1, 0, 1, 0, 0, 0, 1, 0]\n",
    "#encrypted text: [0, 0, 1, 1, 1, 0, 0, 0]\n",
    "encrypt([1, 1, 1, 1, 0, 0, 1, 0], [1, 0, 1, 1, 1, 0, 0, 1, 1, 0])"
   ]
  },
  {
   "cell_type": "code",
   "execution_count": 81,
   "metadata": {},
   "outputs": [
    {
     "name": "stdout",
     "output_type": "stream",
     "text": [
      "mixed_mes\n",
      "[1, 1, 1, 0, 1, 1, 0, 1]\n",
      "left\n",
      "[1, 1, 1, 0]\n",
      "right\n",
      "[1, 1, 0, 1]\n",
      "Entered f_sdes\n",
      "new_mes\n",
      "[1, 1, 1, 0, 1, 0, 1, 1]\n",
      "left\n",
      "[1, 1, 1, 0]\n",
      "right\n",
      "[1, 1, 0, 1]\n",
      "key\n",
      "[1, 1, 0, 1, 0, 0, 1, 1]\n",
      "keyd_mes\n",
      "[0, 0, 1, 1, 1, 0, 0, 0]\n",
      "after_sq_blocks\n",
      "[1, 0, 1, 1]\n",
      "after_perm\n",
      "[0, 1, 1, 1]\n",
      "Left f_sdes\n",
      "after_xor\n",
      "[1, 0, 0, 1]\n",
      "keyd_mes\n",
      "round1\n",
      "[1, 0, 0, 1, 1, 1, 0, 1]\n",
      "message_for_r2\n",
      "[1, 1, 0, 1, 1, 0, 0, 1]\n",
      "left\n",
      "[1, 1, 0, 1]\n",
      "right\n",
      "[1, 0, 0, 1]\n",
      "Entered f_sdes\n",
      "new_mes\n",
      "[1, 1, 0, 0, 0, 0, 1, 1]\n",
      "left\n",
      "[1, 1, 0, 1]\n",
      "right\n",
      "[1, 0, 0, 1]\n",
      "key\n",
      "[1, 0, 1, 1, 1, 1, 0, 0]\n",
      "keyd_mes\n",
      "[0, 1, 1, 1, 1, 1, 1, 1]\n",
      "after_sq_blocks\n",
      "[0, 0, 1, 1]\n",
      "after_perm\n",
      "[0, 1, 1, 0]\n",
      "Left f_sdes\n",
      "after_xor\n",
      "[1, 0, 1, 1]\n",
      "keyd_mes\n",
      "round2\n",
      "[1, 0, 1, 1, 1, 0, 0, 1]\n",
      "result\n",
      "[1, 1, 1, 1, 0, 0, 1, 0]\n"
     ]
    },
    {
     "data": {
      "text/plain": [
       "[1, 1, 1, 1, 0, 0, 1, 0]"
      ]
     },
     "execution_count": 81,
     "metadata": {},
     "output_type": "execute_result"
    }
   ],
   "source": [
    "decrypt([0, 1, 1, 1, 0, 1, 1, 1], [1, 0, 1, 1, 1, 0, 0, 1, 1, 0])"
   ]
  },
  {
   "cell_type": "code",
   "execution_count": null,
   "metadata": {},
   "outputs": [],
   "source": []
  }
 ],
 "metadata": {
  "kernelspec": {
   "display_name": "Python 3",
   "language": "python",
   "name": "python3"
  },
  "language_info": {
   "codemirror_mode": {
    "name": "ipython",
    "version": 3
   },
   "file_extension": ".py",
   "mimetype": "text/x-python",
   "name": "python",
   "nbconvert_exporter": "python",
   "pygments_lexer": "ipython3",
   "version": "3.6.8"
  }
 },
 "nbformat": 4,
 "nbformat_minor": 2
}
